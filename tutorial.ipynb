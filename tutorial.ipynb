{
 "cells": [
  {
   "cell_type": "code",
   "execution_count": 1,
   "metadata": {},
   "outputs": [],
   "source": [
    "import pandas as pd\n",
    "import warnings\n",
    "warnings.filterwarnings('ignore')\n",
    "\n",
    "from matplotlib import pyplot as plt\n",
    "import pandas as pd\n",
    "import numpy as np\n",
    "import random\n",
    "import os\n",
    "import scanpy as sc\n",
    "\n",
    "import copy\n",
    "import sys\n",
    "\n",
    "sys.path.append('/home/rui/')\n",
    "import Subtype_Deconvolution as sd"
   ]
  },
  {
   "cell_type": "code",
   "execution_count": 2,
   "metadata": {},
   "outputs": [],
   "source": [
    "alpha = {\n",
    "    'mg1':[500,1,1],\n",
    "    'mg2':[1,500,1],\n",
    "    'mg3':[1,1,500],\n",
    "    'mg4':[5000,5000,5000]\n",
    "}\n",
    "\n",
    "alpha_df = pd.DataFrame(alpha,index=['CT1', 'CT2', 'CT3']).T\n",
    "alpha_arr = np.array(alpha_df.T)\n",
    "\n",
    "#total mRNA\n",
    "logLS_m = [np.log10 (5000), np.log10 (5000), np.log10 (5000)]\n",
    "logLS_std = [0.2, 0.2, 0.2]\n",
    "\n",
    "gene_name = alpha_df.index\n",
    "celltype_names = alpha_df.columns\n",
    "\n",
    "smaple_component_sc = [[1000,1000,1000]]\n",
    "sample_component_bulk =[[100,200,300],\n",
    "                        [100,100,100]]"
   ]
  },
  {
   "cell_type": "code",
   "execution_count": 3,
   "metadata": {},
   "outputs": [
    {
     "name": "stdout",
     "output_type": "stream",
     "text": [
      "Please check if the generated true singlet/dobulet nubmers meet the need:\n",
      "--num of valid droplets: 2371\n",
      "--num of true singlets: 2327\n",
      "--num of true doublets: 42\n",
      "multiprocessing:  1.429701566696167\n",
      "1.4418690204620361\n"
     ]
    },
    {
     "data": {
      "text/html": [
       "<div>\n",
       "<style scoped>\n",
       "    .dataframe tbody tr th:only-of-type {\n",
       "        vertical-align: middle;\n",
       "    }\n",
       "\n",
       "    .dataframe tbody tr th {\n",
       "        vertical-align: top;\n",
       "    }\n",
       "\n",
       "    .dataframe thead th {\n",
       "        text-align: right;\n",
       "    }\n",
       "</style>\n",
       "<table border=\"1\" class=\"dataframe\">\n",
       "  <thead>\n",
       "    <tr style=\"text-align: right;\">\n",
       "      <th></th>\n",
       "      <th>CT1</th>\n",
       "      <th>CT2</th>\n",
       "      <th>CT3</th>\n",
       "    </tr>\n",
       "  </thead>\n",
       "  <tbody>\n",
       "    <tr>\n",
       "      <th>sample1</th>\n",
       "      <td>0.255082</td>\n",
       "      <td>0.596378</td>\n",
       "      <td>0.148540</td>\n",
       "    </tr>\n",
       "    <tr>\n",
       "      <th>sample2</th>\n",
       "      <td>0.352476</td>\n",
       "      <td>0.323763</td>\n",
       "      <td>0.323761</td>\n",
       "    </tr>\n",
       "  </tbody>\n",
       "</table>\n",
       "</div>"
      ],
      "text/plain": [
       "              CT1       CT2       CT3\n",
       "sample1  0.255082  0.596378  0.148540\n",
       "sample2  0.352476  0.323763  0.323761"
      ]
     },
     "execution_count": 3,
     "metadata": {},
     "output_type": "execute_result"
    }
   ],
   "source": [
    "bulk,sc_m,sc_info,bulk_prob = sd.sim.generate_data('test_code', smaple_component_sc,sample_component_bulk,0.8, celltype_names, logLS_m, logLS_std, alpha_arr, gene_name)\n",
    "sc_m = sc_m.T.reset_index().iloc[:,1:]\n",
    "sc_ct = pd.DataFrame(sc_info.iloc[0,:].reset_index().iloc[:,1])\n",
    "bulk = bulk.T\n",
    "\n",
    "# result_pro1=pd.DataFrame()\n",
    "\n",
    "makrer_list = sc_m.columns[0:2]\n",
    "\n",
    "pm1,sc_ref1,bulk1=sd.pre_process.input_process(sc_m, sc_ct, bulk, makrer_list)\n",
    "sc_ref1c  = sd.pre_process.sc_correction(sc_ref1, pm1)\n",
    "# result_pro1 = pd.concat([result_pro1,sd.cmse.deconvolute_core_mse(bulk1,sc_ref1c)],axis=1)\n",
    "# result_pro1\n",
    "sd.cmse.deconvolute_core_mse(bulk1,sc_ref1c)"
   ]
  },
  {
   "cell_type": "code",
   "execution_count": 4,
   "metadata": {},
   "outputs": [
    {
     "data": {
      "text/html": [
       "<div>\n",
       "<style scoped>\n",
       "    .dataframe tbody tr th:only-of-type {\n",
       "        vertical-align: middle;\n",
       "    }\n",
       "\n",
       "    .dataframe tbody tr th {\n",
       "        vertical-align: top;\n",
       "    }\n",
       "\n",
       "    .dataframe thead th {\n",
       "        text-align: right;\n",
       "    }\n",
       "</style>\n",
       "<table border=\"1\" class=\"dataframe\">\n",
       "  <thead>\n",
       "    <tr style=\"text-align: right;\">\n",
       "      <th></th>\n",
       "      <th>CT1</th>\n",
       "      <th>CT2</th>\n",
       "      <th>CT3</th>\n",
       "    </tr>\n",
       "  </thead>\n",
       "  <tbody>\n",
       "    <tr>\n",
       "      <th>sample1</th>\n",
       "      <td>0.254409</td>\n",
       "      <td>0.594809</td>\n",
       "      <td>0.150782</td>\n",
       "    </tr>\n",
       "    <tr>\n",
       "      <th>sample2</th>\n",
       "      <td>0.352472</td>\n",
       "      <td>0.323759</td>\n",
       "      <td>0.323770</td>\n",
       "    </tr>\n",
       "  </tbody>\n",
       "</table>\n",
       "</div>"
      ],
      "text/plain": [
       "              CT1       CT2       CT3\n",
       "sample1  0.254409  0.594809  0.150782\n",
       "sample2  0.352472  0.323759  0.323770"
      ]
     },
     "execution_count": 4,
     "metadata": {},
     "output_type": "execute_result"
    }
   ],
   "source": [
    "sd.cby.deconvolute_core_bayes(bulk1,sc_ref1c)"
   ]
  }
 ],
 "metadata": {
  "kernelspec": {
   "display_name": "Python 3",
   "language": "python",
   "name": "python3"
  },
  "language_info": {
   "codemirror_mode": {
    "name": "ipython",
    "version": 3
   },
   "file_extension": ".py",
   "mimetype": "text/x-python",
   "name": "python",
   "nbconvert_exporter": "python",
   "pygments_lexer": "ipython3",
   "version": "3.9.7"
  },
  "orig_nbformat": 4
 },
 "nbformat": 4,
 "nbformat_minor": 2
}
