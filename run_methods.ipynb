{
 "cells": [
  {
   "cell_type": "code",
   "execution_count": null,
   "metadata": {},
   "outputs": [],
   "source": [
    "# simulator部分-数据要求：\n",
    "# bayesprism： 无特殊要求\n",
    "# music（非层次化反解）： 需要添加样本信息，复制所有细胞，原始数据sample标为1，复制的标为2，参考/home/rui/simulator/data1/sc_ct_musictest\n",
    "\n",
    "# simulation 数据存储\n",
    "# 每个测试生成的bulk和sc及满足多个方法要求的sc_ct matrix保存在该测试的文件夹中、\n",
    "# benchmark以文件夹路径为参数依次读入和运行多个deconvolution method\n",
    "\n",
    "# benchmark code - function注解\n",
    "# 1. bayesprism：参数（文件夹路径，m），\n",
    "    #  其中m=0：使用bayesprism找的marker；m=1：使用提供的marker list进行反解\n",
    "    # 读入的数据:sc_m, sc_ct, bulk，如果使用提供的marker list，则sc_m为marker筛选之后的matrix\n",
    "#2."
   ]
  },
  {
   "cell_type": "code",
   "execution_count": 1,
   "metadata": {},
   "outputs": [],
   "source": [
    "import rpy2.robjects as ro\n",
    "import numpy as np\n",
    "import pandas as pd\n",
    "r=ro.r"
   ]
  },
  {
   "attachments": {},
   "cell_type": "markdown",
   "metadata": {},
   "source": [
    "### BeysPrism"
   ]
  },
  {
   "cell_type": "code",
   "execution_count": 2,
   "metadata": {},
   "outputs": [],
   "source": [
    "### function: deconvolution with bayesprism:\n",
    "###         变量：sc, bulk, method\n",
    "folder_path = \"/home/rui/simulator/data2/\"\n",
    "\n",
    "r('''\n",
    "    bayesprism <- function(folder_path,m){\n",
    "        library(BayesPrism)\n",
    "        \n",
    "        sc.dat <- read.csv(file.path(folder_path,\"sc_m5\"))\n",
    "        cell.type.labels <- read.csv(file.path(folder_path,\"sc_ct5\"))\n",
    "        bk.dat <- read.csv(\"/home/rui/simulator/data2/bulk5\")\n",
    "        sc.dat <- sc.dat[,-1]\n",
    "        cell.type.labels <- cell.type.labels[,-1]\n",
    "        #cell.state.labels <- cell.state.labels[,-1]\n",
    "        bk.dat <- bk.dat[,-1]\n",
    "\n",
    "        if(m == 0){\n",
    "            diff.exp.stat <- get.exp.stat(sc.dat=sc.dat[,colSums(sc.dat>0)>3],# filter genes to reduce memory use\n",
    "                                cell.type.labels=cell.type.labels,\n",
    "                                cell.state.labels=cell.type.labels,\n",
    "                                psuedo.count=0.1, #a numeric value used for log2 transformation. =0.1 for 10x data, =10 for smart-seq.\n",
    "                                cell.count.cutoff=50, # a numeric value to exclude cell state with number of cells fewer than this valu\n",
    "                                n.cores=1 #number of threads\n",
    "            )\n",
    "\n",
    "            sc.dat.filtered.pc.sig <- select.marker (sc.dat=sc.dat,\n",
    "                                            stat=diff.exp.stat,\n",
    "                                            pval.max=0.01,\n",
    "                                            lfc.min=0.1\n",
    "            )\n",
    "            myPrism <- new.prism(\n",
    "            reference=sc.dat.filtered.pc.sig,\n",
    "            mixture=bk.dat,\n",
    "            input.type=\"count.matrix\",\n",
    "            cell.type.labels = cell.type.labels,\n",
    "            cell.state.labels = cell.type.labels,\n",
    "            key=NULL,\n",
    "            outlier.cut=0.01,\n",
    "            outlier.fraction=0.1\n",
    "            )\n",
    "\n",
    "            bp.res <- run.prism(prism = myPrism, n.cores=50)\n",
    "\n",
    "            theta <- get.fraction (bp=bp.res,\n",
    "                                which.theta=\"final\",\n",
    "                                state.or.type=\"type\"\n",
    "            )\n",
    "            return(theta)\n",
    "        }   \n",
    "\n",
    "  \n",
    "        if(m == 1){\n",
    "            sc.dat.selected <- sc.dat\n",
    "\n",
    "            myPrism <- new.prism(\n",
    "            reference=sc.dat.selected,\n",
    "            mixture=bk.dat,\n",
    "            input.type=\"count.matrix\",\n",
    "            cell.type.labels = cell.type.labels,\n",
    "            cell.state.labels = cell.type.labels,\n",
    "            key=NULL,\n",
    "            outlier.cut=0.01,\n",
    "            outlier.fraction=0.1,\n",
    "            )\n",
    "            bp.res <- run.prism(prism = myPrism, n.cores=50)\n",
    "            theta <- get.fraction (bp=bp.res,\n",
    "                                which.theta=\"final\",\n",
    "                                state.or.type=\"type\"\n",
    "            )\n",
    "            return(theta)\n",
    "        }\n",
    "    } \n",
    "''')    \n",
    "\n"
   ]
  },
  {
   "attachments": {},
   "cell_type": "markdown",
   "metadata": {},
   "source": [
    "### MuSiC"
   ]
  },
  {
   "cell_type": "code",
   "execution_count": 115,
   "metadata": {},
   "outputs": [],
   "source": [
    "%%capture capture_output\n",
    "test=r['bayesprism'](folder_path,1)\n",
    "bp = pd.DataFrame(np.array(test))\n"
   ]
  },
  {
   "cell_type": "code",
   "execution_count": 4,
   "metadata": {},
   "outputs": [],
   "source": [
    "# \n",
    "folder_path = \"/home/rui/simulator/data1/\"\n",
    "r('''\n",
    "    music <- function(folder_path,m){\n",
    "        library(MuSiC)\n",
    "        library(SingleCellExperiment)\n",
    "        sc.dat <- read.csv(file.path(folder_path,\"sc_m_music\"))\n",
    "        sc.dat <- sc.dat[,-1]\n",
    "        sc.dat <- t(sc.dat)\n",
    "        sc.dat <- as.data.frame(sc.dat)\n",
    "        sce <- SingleCellExperiment(assays = list(counts = sc.dat))\n",
    "        cell.type.labels <- read.csv(file.path(folder_path,\"sc_ct_musictest\"))\n",
    "        cell.type.labels <- cell.type.labels[,-1]\n",
    "        cell.type.labels <- as.data.frame(cell.type.labels)\n",
    "        rownames(cell.type.labels) <- paste0(\"cell_\", 1:nrow(cell.type.labels))\n",
    "        colData(sce) <- DataFrame(cell.type.labels)\n",
    "        counts <- counts(sce)\n",
    "\n",
    "        bk.dat <- read.csv(file.path(folder_path,\"bulk1\"))\n",
    "        bulk.matrix <- t(bk.dat[,-1])\n",
    "        sample.label <- bk.dat$X\n",
    "        sample.label<-as.data.frame(sample.label)\n",
    "        sl<-new(\"AnnotatedDataFrame\", data=sample.label)\n",
    "        bk.set<-ExpressionSet(bulk.matrix,phenoData = sl)\n",
    "        bulk.mtx <- exprs(bk.set)\n",
    "\n",
    "        Est.prop.test = music_prop(bulk.mtx = bulk.mtx, sc.sce  = sce, clusters = 'cell_type',\n",
    "                                    samples = 'sampleID',select.ct = unique(cell.type.labels[,1]))\n",
    "\n",
    "        result <- Est.prop.test[[\"Est.prop.weighted\"]]\n",
    "        return(result)\n",
    "    } \n",
    "''')    "
   ]
  },
  {
   "cell_type": "code",
   "execution_count": 5,
   "metadata": {},
   "outputs": [],
   "source": [
    "%%capture capture_output\n",
    "elm= r['music'](folder_path,1)\n",
    "music = pd.DataFrame(np.array(elm))"
   ]
  },
  {
   "attachments": {},
   "cell_type": "markdown",
   "metadata": {},
   "source": [
    "### Linseed"
   ]
  },
  {
   "cell_type": "code",
   "execution_count": 11,
   "metadata": {},
   "outputs": [],
   "source": [
    "folder_path = \"/home/rui/simulator/data1/\"\n",
    "r('''\n",
    "    linseed <- function(folder_path){\n",
    "    library(linseed)\n",
    "    bk.dat <- read.csv(file.path(folder_path,\"bulk1\"))\n",
    "\n",
    "    bk.dat <- bk.dat[,-1]\n",
    "    bulk <- t(bk.dat)\n",
    "    lo <- LinseedObject$new(bulk, samples=0:ncol(bulk))\n",
    "    lo$calculatePairwiseLinearity()\n",
    "    lo$calculateSpearmanCorrelation()\n",
    "    lo$calculateSignificanceLevel(100)\n",
    "    #lo$significancePlot(0.01)\n",
    "    lo$filterDatasetByPval(0.01)\n",
    "\n",
    "    #lo$svdPlot()\n",
    "    cell.type.labels <- read.csv(file.path(folder_path,\"sc_ct_musictest\"))\n",
    "    cell.type.labels <- cell.type.labels[,-1]\n",
    "\n",
    "    lo$setCellTypeNumber(length(unique(cell.type.labels[,1])))\n",
    "    lo$project(\"full\") # projecting full dataset\n",
    "    lo$projectionPlot(color=\"filtered\")\n",
    "\n",
    "    lo$project(\"filtered\")\n",
    "    lo$smartSearchCorners(dataset=\"filtered\", error=\"norm\")\n",
    "    lo$deconvolveByEndpoints()\n",
    "\n",
    "    return(lo[[\"proportions\"]])\n",
    "    }\n",
    "''') "
   ]
  },
  {
   "cell_type": "code",
   "execution_count": null,
   "metadata": {},
   "outputs": [],
   "source": [
    "linseed = r['linseed'](folder_path)\n",
    "linseed = pd.DataFrame(np.array(linseed))"
   ]
  },
  {
   "attachments": {},
   "cell_type": "markdown",
   "metadata": {},
   "source": [
    "### "
   ]
  },
  {
   "cell_type": "code",
   "execution_count": null,
   "metadata": {},
   "outputs": [],
   "source": [
    "r('''\n",
    "    \n",
    "    }\n",
    "''') "
   ]
  }
 ],
 "metadata": {
  "kernelspec": {
   "display_name": "Python 3",
   "language": "python",
   "name": "python3"
  },
  "language_info": {
   "codemirror_mode": {
    "name": "ipython",
    "version": 3
   },
   "file_extension": ".py",
   "mimetype": "text/x-python",
   "name": "python",
   "nbconvert_exporter": "python",
   "pygments_lexer": "ipython3",
   "version": "3.9.7"
  },
  "orig_nbformat": 4
 },
 "nbformat": 4,
 "nbformat_minor": 2
}
